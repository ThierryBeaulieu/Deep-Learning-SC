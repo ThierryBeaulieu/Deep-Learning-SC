{
 "cells": [
  {
   "cell_type": "code",
   "execution_count": 2,
   "metadata": {},
   "outputs": [],
   "source": [
    "import numpy as np\n",
    "import time\n",
    "from abc import ABC, abstractmethod\n",
    "from typing import List, Optional"
   ]
  },
  {
   "cell_type": "markdown",
   "metadata": {},
   "source": [
    "## Utils"
   ]
  },
  {
   "cell_type": "code",
   "execution_count": 3,
   "metadata": {},
   "outputs": [],
   "source": [
    "def int2bin(x: int, size: int):\n",
    "    return bin(x)[2:].zfill(size)\n",
    "\n",
    "\n",
    "def float2int(x: float, n: int):\n",
    "    return int(x * pow(2, n))"
   ]
  },
  {
   "cell_type": "markdown",
   "metadata": {},
   "source": [
    "## Bit Stream"
   ]
  },
  {
   "cell_type": "code",
   "execution_count": 4,
   "metadata": {},
   "outputs": [],
   "source": [
    "class BitStream:\n",
    "    def __init__(self):\n",
    "        self.stream = 0  # The content of the stream\n",
    "        self.size = 0  # The current size of the stream\n",
    "\n",
    "    def add_bits(self, bits: int, bit_count: int):\n",
    "        \"\"\"Add bits to the stream.\n",
    "\n",
    "        Args:\n",
    "            bits (int): The integer containing the bits to add (e.g.  0b101).\n",
    "            bit_count (int): The number of bits to add from the 'bits' integer (e.g. 3).\n",
    "        \"\"\"\n",
    "        self.stream = (self.stream << bit_count) | (bits & ((1 << bit_count) - 1))\n",
    "        self.size += bit_count\n",
    "\n",
    "    def pop_bits(self, bit_count: int) -> int:\n",
    "        \"\"\"Read qnd remove a certain number of bits from the stream.\n",
    "\n",
    "        Args:\n",
    "            bit_count (int): The number of bits to read.\n",
    "\n",
    "        Returns:\n",
    "            int: The extracted bits as an integer.\n",
    "        \"\"\"\n",
    "        if bit_count > self.size:\n",
    "            raise ValueError(\"Not enough bits in the stream to read.\")\n",
    "\n",
    "        # Extract the bits from the most significant part of the stream\n",
    "        result = self.stream >> (self.size - bit_count)\n",
    "        # Remove the bits we just read\n",
    "        self.stream &= (1 << (self.size - bit_count)) - 1\n",
    "        self.size -= bit_count\n",
    "\n",
    "        return result\n",
    "\n",
    "    def read(self):\n",
    "        \"\"\"Read the content of the stream as a binary int\n",
    "\n",
    "        Returns:\n",
    "            int: the content of the stream as an integer\n",
    "        \"\"\"\n",
    "        return self.stream\n",
    "\n",
    "    def __str__(self) -> str:\n",
    "        \"\"\"Return the bit stream as a binary string for easy visualization.\"\"\"\n",
    "        return bin(self.stream)[2:].zfill(self.size)"
   ]
  },
  {
   "cell_type": "code",
   "execution_count": 5,
   "metadata": {},
   "outputs": [
    {
     "name": "stdout",
     "output_type": "stream",
     "text": [
      "00010\n",
      "10\n"
     ]
    }
   ],
   "source": [
    "bitStream = BitStream()\n",
    "bitStream.add_bits(0b00010, 5)\n",
    "print(bin(bitStream.stream)[2:].zfill(5))\n",
    "bitStream.pop_bits(2)\n",
    "print(bin(bitStream.stream)[2:].zfill(2))"
   ]
  },
  {
   "cell_type": "markdown",
   "metadata": {},
   "source": [
    "## LFSR"
   ]
  },
  {
   "cell_type": "code",
   "execution_count": 6,
   "metadata": {},
   "outputs": [],
   "source": [
    "class LFSR:\n",
    "    def __init__(self, seed: int, taps: list[int], size: int):\n",
    "        self.seed = seed\n",
    "        self.taps = taps\n",
    "        self.size = size\n",
    "        self.register = seed\n",
    "        self.output_bit = 0\n",
    "\n",
    "    def step(self):\n",
    "        feedback = 0\n",
    "        for tap in self.taps:\n",
    "            feedback ^= (self.register >> tap) & 1\n",
    "\n",
    "        # Shift the register to the right and set the most significant bit to the feedback bit\n",
    "        self.register = (self.register >> 1) | (feedback << (self.size - 1))\n",
    "        self.output_bit = self.register & 1\n",
    "        return self.register"
   ]
  },
  {
   "cell_type": "markdown",
   "metadata": {},
   "source": [
    "## Abstract Module"
   ]
  },
  {
   "cell_type": "code",
   "execution_count": 242,
   "metadata": {},
   "outputs": [],
   "source": [
    "class SCModule(ABC):\n",
    "    def __init__(self, input_modules: Optional[List[\"SCModule\"]] = None, **kwargs):\n",
    "        self.input_modules = input_modules\n",
    "        if self.input_modules is not None:\n",
    "            self.input_number = len(input_modules)\n",
    "            self.input_bits = [0] * self.input_number\n",
    "        self.output_bit = 0\n",
    "\n",
    "    def step(self):\n",
    "        if self.input_modules is not None:\n",
    "            for i in range(self.input_number):\n",
    "                self.input_bits[i] = self.input_modules[i].output_bit"
   ]
  },
  {
   "cell_type": "markdown",
   "metadata": {},
   "source": [
    "# B2S and S2B convertor"
   ]
  },
  {
   "cell_type": "code",
   "execution_count": 243,
   "metadata": {},
   "outputs": [],
   "source": [
    "class Binary2Stochastic(SCModule):\n",
    "    def __init__(self, lfsr_seed: int, lfsr_taps: int, lfsr_size: int):\n",
    "        super().__init__()\n",
    "        self.lfsr = LFSR(seed=lfsr_seed, taps=lfsr_taps, size=lfsr_size)\n",
    "        self.n = lfsr_size\n",
    "\n",
    "    def set_input_value(self, input_value: float):\n",
    "        self.input_value = input_value\n",
    "\n",
    "    def step(self):\n",
    "        super().step()\n",
    "        assert 0 < self.input_value < 1, \"Input needs to be in range [0,1]\"\n",
    "        x_as_binary = float2int(self.input_value, self.n)\n",
    "        rng = self.lfsr.step()\n",
    "        self.output_bit = int(x_as_binary > rng)"
   ]
  },
  {
   "cell_type": "code",
   "execution_count": 244,
   "metadata": {},
   "outputs": [],
   "source": [
    "class Stochastic2Binary(SCModule):\n",
    "    def __init__(self, input_modules: Optional[List[SCModule]] = None):\n",
    "        assert (\n",
    "            len(input_modules) < 2\n",
    "        ), \"Stochastic to Binary module cannot have more than one entry\"\n",
    "        super().__init__(input_modules)\n",
    "        self.clock = 0\n",
    "        self.accumulator = 0\n",
    "        self.result = 0\n",
    "\n",
    "    def step(self):\n",
    "        super().step()\n",
    "        self.accumulator += self.input_bits[0]\n",
    "        self.clock += 1\n",
    "        self.result = self.accumulator / self.clock\n",
    "        self.input_modules[0].step()\n",
    "\n",
    "    def reset_clock(self):\n",
    "        self.clock = 0\n",
    "        self.accumulator = 0\n",
    "        self.result = 0"
   ]
  },
  {
   "cell_type": "markdown",
   "metadata": {},
   "source": [
    "## Multiplicator"
   ]
  },
  {
   "cell_type": "code",
   "execution_count": 1,
   "metadata": {},
   "outputs": [
    {
     "ename": "NameError",
     "evalue": "name 'SCModule' is not defined",
     "output_type": "error",
     "traceback": [
      "\u001b[0;31m---------------------------------------------------------------------------\u001b[0m",
      "\u001b[0;31mNameError\u001b[0m                                 Traceback (most recent call last)",
      "Cell \u001b[0;32mIn[1], line 1\u001b[0m\n\u001b[0;32m----> 1\u001b[0m \u001b[38;5;28;01mclass\u001b[39;00m \u001b[38;5;21;01mMultiplicator\u001b[39;00m(\u001b[43mSCModule\u001b[49m):\n\u001b[1;32m      2\u001b[0m     \u001b[38;5;28;01mdef\u001b[39;00m \u001b[38;5;21m__init__\u001b[39m(\u001b[38;5;28mself\u001b[39m, input_modules: List[SCModule] \u001b[38;5;241m=\u001b[39m \u001b[38;5;28;01mNone\u001b[39;00m):\n\u001b[1;32m      3\u001b[0m         \u001b[38;5;28;01massert\u001b[39;00m (\n\u001b[1;32m      4\u001b[0m             \u001b[38;5;28mlen\u001b[39m(input_modules) \u001b[38;5;241m==\u001b[39m \u001b[38;5;241m2\u001b[39m\n\u001b[1;32m      5\u001b[0m         ), \u001b[38;5;124m\"\u001b[39m\u001b[38;5;124mMultiplicator module must have 2 and exactly 2 entries\u001b[39m\u001b[38;5;124m\"\u001b[39m\n",
      "\u001b[0;31mNameError\u001b[0m: name 'SCModule' is not defined"
     ]
    }
   ],
   "source": [
    "class Multiplicator(SCModule):\n",
    "    def __init__(self, input_modules: List[SCModule] = None):\n",
    "        assert (\n",
    "            len(input_modules) == 2\n",
    "        ), \"Multiplicator module must have 2 and exactly 2 entries\"\n",
    "        super().__init__(input_modules=input_modules)\n",
    "\n",
    "    def step(self):\n",
    "        super().step()\n",
    "        self.output_bit = (self.input_bits[0] & self.input_bits[1]) | (\n",
    "            ~self.input_bits[0] & ~self.input_bits[1]\n",
    "        )\n",
    "        for input_module in self.input_modules:\n",
    "            input_module.step()"
   ]
  },
  {
   "cell_type": "markdown",
   "metadata": {},
   "source": [
    "## Adder"
   ]
  },
  {
   "cell_type": "code",
   "execution_count": null,
   "metadata": {},
   "outputs": [],
   "source": [
    "class Adder(SCModule):\n",
    "    def __init__(\n",
    "        self,\n",
    "        lfsr_seed: int,\n",
    "        lfsr_taps: int,\n",
    "        lfsr_size: int,\n",
    "        input_modules: List[SCModule] = None,\n",
    "    ):\n",
    "        assert len(input_modules) == 2, \"Adder module must have 2 and exactly 2 entries\"\n",
    "        super().__init__(input_modules=input_modules)\n",
    "        self.lfsr = LFSR(lfsr_seed, lfsr_taps, lfsr_size)\n",
    "\n",
    "    def step(self):\n",
    "        super().step()\n",
    "        self.lfsr.step()\n",
    "        self.output_bit = self.input_bits[self.lfsr.output_bit]\n",
    "        for input_module in self.input_modules:\n",
    "            input_module.step()\n"
   ]
  },
  {
   "cell_type": "code",
   "execution_count": 252,
   "metadata": {},
   "outputs": [],
   "source": [
    "main_seed1 = int(np.random.random() * (pow(2, 128) - 1))\n",
    "main_seed2 = int(np.random.random() * (pow(2, 128) - 1))\n",
    "main_seed3 = int(np.random.random() * (pow(2, 128) - 1))\n",
    "main_taps = [0, 1, 2, 7]"
   ]
  },
  {
   "cell_type": "code",
   "execution_count": 253,
   "metadata": {},
   "outputs": [
    {
     "name": "stdout",
     "output_type": "stream",
     "text": [
      "0.40552\n"
     ]
    }
   ],
   "source": [
    "b2s1 = Binary2Stochastic(lfsr_seed=main_seed1, lfsr_taps=main_taps, lfsr_size=128)\n",
    "b2s2 = Binary2Stochastic(lfsr_seed=main_seed2, lfsr_taps=main_taps, lfsr_size=128)\n",
    "mul = Multiplicator(input_modules=[b2s1, b2s2])\n",
    "add = Adder(\n",
    "    lfsr_seed=main_seed3, lfsr_taps=main_taps, lfsr_size=128, input_modules=[b2s1, b2s2]\n",
    ")\n",
    "s2b = Stochastic2Binary(input_modules=[add])\n",
    "\n",
    "b2s1.set_input_value(0.3)\n",
    "b2s2.set_input_value(0.5)\n",
    "\n",
    "output_len = 100000\n",
    "for _ in range(output_len):\n",
    "    s2b.step()\n",
    "\n",
    "print(s2b.result)"
   ]
  },
  {
   "cell_type": "code",
   "execution_count": null,
   "metadata": {},
   "outputs": [],
   "source": []
  }
 ],
 "metadata": {
  "kernelspec": {
   "display_name": "DNN-SC",
   "language": "python",
   "name": "python3"
  },
  "language_info": {
   "codemirror_mode": {
    "name": "ipython",
    "version": 3
   },
   "file_extension": ".py",
   "mimetype": "text/x-python",
   "name": "python",
   "nbconvert_exporter": "python",
   "pygments_lexer": "ipython3",
   "version": "3.11.9"
  }
 },
 "nbformat": 4,
 "nbformat_minor": 2
}
