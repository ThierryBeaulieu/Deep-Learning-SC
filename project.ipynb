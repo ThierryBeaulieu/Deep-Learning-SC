{
 "cells": [
  {
   "cell_type": "code",
   "execution_count": 42,
   "metadata": {},
   "outputs": [],
   "source": [
    "import numpy as np\n",
    "import time\n",
    "from abc import ABC, abstractmethod\n",
    "from typing import List, Optional"
   ]
  },
  {
   "cell_type": "markdown",
   "metadata": {},
   "source": [
    "## Utils"
   ]
  },
  {
   "cell_type": "code",
   "execution_count": 35,
   "metadata": {},
   "outputs": [],
   "source": [
    "def int2bin(x: int, size: int):\n",
    "    return bin(x)[2:].zfill(size)\n",
    "\n",
    "\n",
    "def float2int(x: float, n: int):\n",
    "    return int(x * pow(2, n))"
   ]
  },
  {
   "cell_type": "markdown",
   "metadata": {},
   "source": [
    "## Bit Stream"
   ]
  },
  {
   "cell_type": "code",
   "execution_count": 4,
   "metadata": {},
   "outputs": [],
   "source": [
    "class BitStream:\n",
    "    def __init__(self):\n",
    "        self.stream = 0  # The content of the stream\n",
    "        self.size = 0  # The current size of the stream\n",
    "\n",
    "    def add_bits(self, bits: int, bit_count: int):\n",
    "        \"\"\"Add bits to the stream.\n",
    "\n",
    "        Args:\n",
    "            bits (int): The integer containing the bits to add (e.g.  0b101).\n",
    "            bit_count (int): The number of bits to add from the 'bits' integer (e.g. 3).\n",
    "        \"\"\"\n",
    "        self.stream = (self.stream << bit_count) | (bits & ((1 << bit_count) - 1))\n",
    "        self.size += bit_count\n",
    "\n",
    "    def pop_bits(self, bit_count: int) -> int:\n",
    "        \"\"\"Read qnd remove a certain number of bits from the stream.\n",
    "\n",
    "        Args:\n",
    "            bit_count (int): The number of bits to read.\n",
    "\n",
    "        Returns:\n",
    "            int: The extracted bits as an integer.\n",
    "        \"\"\"\n",
    "        if bit_count > self.size:\n",
    "            raise ValueError(\"Not enough bits in the stream to read.\")\n",
    "\n",
    "        # Extract the bits from the most significant part of the stream\n",
    "        result = self.stream >> (self.size - bit_count)\n",
    "        # Remove the bits we just read\n",
    "        self.stream &= (1 << (self.size - bit_count)) - 1\n",
    "        self.size -= bit_count\n",
    "\n",
    "        return result\n",
    "\n",
    "    def read(self):\n",
    "        \"\"\"Read the content of the stream as a binary int\n",
    "\n",
    "        Returns:\n",
    "            int: the content of the stream as an integer\n",
    "        \"\"\"\n",
    "        return self.stream\n",
    "\n",
    "    def __str__(self) -> str:\n",
    "        \"\"\"Return the bit stream as a binary string for easy visualization.\"\"\"\n",
    "        return bin(self.stream)[2:].zfill(self.size)"
   ]
  },
  {
   "cell_type": "code",
   "execution_count": 5,
   "metadata": {},
   "outputs": [
    {
     "name": "stdout",
     "output_type": "stream",
     "text": [
      "00010\n",
      "10\n"
     ]
    }
   ],
   "source": [
    "bitStream = BitStream()\n",
    "bitStream.add_bits(0b00010, 5)\n",
    "print(bin(bitStream.stream)[2:].zfill(5))\n",
    "bitStream.pop_bits(2)\n",
    "print(bin(bitStream.stream)[2:].zfill(2))"
   ]
  },
  {
   "cell_type": "markdown",
   "metadata": {},
   "source": [
    "## LFSR"
   ]
  },
  {
   "cell_type": "code",
   "execution_count": 36,
   "metadata": {},
   "outputs": [],
   "source": [
    "class LFSR:\n",
    "    def __init__(self, seed: int, taps: list[int], size: int):\n",
    "        self.seed = seed\n",
    "        self.taps = taps\n",
    "        self.size = size\n",
    "        self.register = seed\n",
    "        self.output_bit = 0\n",
    "\n",
    "    def step(self):\n",
    "        feedback = 0\n",
    "        for tap in self.taps:\n",
    "            feedback ^= (self.register >> tap) & 1\n",
    "\n",
    "        # Shift the register to the right and set the most significant bit to the feedback bit\n",
    "        self.register = (self.register >> 1) | (feedback << (self.size - 1))\n",
    "        self.output_bit = self.register & 1\n",
    "        return self.register"
   ]
  },
  {
   "cell_type": "markdown",
   "metadata": {},
   "source": [
    "## Abstract Module"
   ]
  },
  {
   "cell_type": "code",
   "execution_count": 37,
   "metadata": {},
   "outputs": [],
   "source": [
    "class SCModule(ABC):\n",
    "    def __init__(self, input_modules: Optional[List[\"SCModule\"]] = None, **kwargs):\n",
    "        self.input_modules = input_modules\n",
    "        if self.input_modules is not None:\n",
    "            self.input_number = len(input_modules)\n",
    "            self.input_bits = [0] * self.input_number\n",
    "        self.output_bit = 0\n",
    "\n",
    "    def step(self):\n",
    "        if self.input_modules is not None:\n",
    "            for i in range(self.input_number):\n",
    "                self.input_bits[i] = self.input_modules[i].output_bit"
   ]
  },
  {
   "cell_type": "markdown",
   "metadata": {},
   "source": [
    "# B2S and S2B convertor"
   ]
  },
  {
   "cell_type": "code",
   "execution_count": 168,
   "metadata": {},
   "outputs": [],
   "source": [
    "class Binary2StochasticUnipolar(SCModule):\n",
    "    def __init__(self, lfsr_seed: int, lfsr_taps: int, size: int, name: str):\n",
    "        super().__init__()\n",
    "        self.lfsr = LFSR(seed=lfsr_seed, taps=lfsr_taps, size=size)\n",
    "        self.n = size\n",
    "        self.name = name\n",
    "\n",
    "    def set_input_value(self, input_value: float):\n",
    "        assert 0 <= input_value <= 1, \"Input value must be in [0,1]\"\n",
    "        self.input_value = input_value\n",
    "        self.input_value_unipolar = pow(2, self.n) * input_value\n",
    "\n",
    "    def step(self):\n",
    "        # print(f\"B2S called {self.name} has been stepped\")\n",
    "        super().step()\n",
    "        rng = self.lfsr.step()\n",
    "        self.output_bit = int(self.input_value_unipolar > rng)"
   ]
  },
  {
   "cell_type": "code",
   "execution_count": null,
   "metadata": {},
   "outputs": [],
   "source": [
    "class Binary2Stochastic(SCModule):\n",
    "    def __init__(self, lfsr_seed: int, lfsr_taps: int, size: int):\n",
    "        super().__init__()\n",
    "        self.lfsr = LFSR(seed=lfsr_seed, taps=lfsr_taps, size=size)\n",
    "        self.n = size\n",
    "        self.range = [-pow(2, self.n - 1), pow(2, self.n - 1) - 1]\n",
    "\n",
    "    def set_input_value(self, input_value: int):\n",
    "        assert (\n",
    "            self.range[0] <= input_value <= self.range[1]\n",
    "        ), f\"Input value must be in [{self.range[0], self.range[0]}]\"\n",
    "        self.input_value_bipolar = input_value - self.range[0]\n",
    "\n",
    "    def step(self):\n",
    "        super().step()\n",
    "        rng = self.lfsr.step()\n",
    "        self.output_bit = int(self.input_value_bipolar > rng)"
   ]
  },
  {
   "cell_type": "code",
   "execution_count": 134,
   "metadata": {},
   "outputs": [],
   "source": [
    "class Stochastic2BinaryUnipolar(SCModule):\n",
    "    def __init__(self, input_modules: Optional[List[SCModule]] = None):\n",
    "        assert (\n",
    "            len(input_modules) < 2\n",
    "        ), \"Stochastic to Binary module cannot have more than one entry\"\n",
    "        super().__init__(input_modules)\n",
    "        self.clock = 0\n",
    "        self.accumulator = 0\n",
    "        self.result = 0\n",
    "\n",
    "    def step(self):\n",
    "        super().step()\n",
    "        self.accumulator += self.input_bits[0]\n",
    "        self.clock += 1\n",
    "        self.result = self.accumulator / self.clock\n",
    "        self.input_modules[0].step()\n",
    "\n",
    "    def reset_clock(self):\n",
    "        self.clock = 0\n",
    "        self.accumulator = 0\n",
    "        self.result = 0"
   ]
  },
  {
   "cell_type": "markdown",
   "metadata": {},
   "source": [
    "## Multiplicator"
   ]
  },
  {
   "cell_type": "code",
   "execution_count": 56,
   "metadata": {},
   "outputs": [],
   "source": [
    "class Multiplicator(SCModule):\n",
    "    def __init__(self, input_modules: List[SCModule] = None):\n",
    "        assert (\n",
    "            len(input_modules) == 2\n",
    "        ), \"Multiplicator module must have 2 and exactly 2 entries\"\n",
    "        super().__init__(input_modules=input_modules)\n",
    "\n",
    "    def step(self):\n",
    "        super().step()\n",
    "        self.output_bit = (self.input_bits[0] & self.input_bits[1]) | (\n",
    "            (1 - self.input_bits[0]) & (1 - self.input_bits[1])\n",
    "        )\n",
    "        for input_module in self.input_modules:\n",
    "            input_module.step()"
   ]
  },
  {
   "cell_type": "code",
   "execution_count": 145,
   "metadata": {},
   "outputs": [],
   "source": [
    "class MultiplicatorUnipolar(SCModule):\n",
    "    def __init__(self, input_modules: List[SCModule] = None):\n",
    "        assert (\n",
    "            len(input_modules) == 2\n",
    "        ), \"Multiplicator module must have 2 and exactly 2 entries\"\n",
    "        super().__init__(input_modules=input_modules)\n",
    "        self.acc = 0\n",
    "\n",
    "    def step(self):\n",
    "        super().step()\n",
    "        self.output_bit = self.input_bits[0] & self.input_bits[1]\n",
    "        self.acc += self.output_bit\n",
    "        for input_module in self.input_modules:\n",
    "            input_module.step()"
   ]
  },
  {
   "cell_type": "markdown",
   "metadata": {},
   "source": [
    "## Adder"
   ]
  },
  {
   "cell_type": "code",
   "execution_count": 41,
   "metadata": {},
   "outputs": [],
   "source": [
    "class Adder(SCModule):\n",
    "    def __init__(\n",
    "        self,\n",
    "        lfsr_seed: int,\n",
    "        lfsr_taps: int,\n",
    "        lfsr_size: int,\n",
    "        input_modules: List[SCModule] = None,\n",
    "    ):\n",
    "        assert len(input_modules) == 2, \"Adder module must have 2 and exactly 2 entries\"\n",
    "        super().__init__(input_modules=input_modules)\n",
    "        self.lfsr = LFSR(lfsr_seed, lfsr_taps, lfsr_size)\n",
    "\n",
    "    def step(self):\n",
    "        super().step()\n",
    "        self.lfsr.step()\n",
    "        self.output_bit = self.input_bits[self.lfsr.output_bit]\n",
    "        for input_module in self.input_modules:\n",
    "            input_module.step()"
   ]
  },
  {
   "cell_type": "code",
   "execution_count": 122,
   "metadata": {},
   "outputs": [],
   "source": [
    "class BinaryAdder(SCModule):\n",
    "    def __init__(\n",
    "        self,\n",
    "        input_modules: List[SCModule] = None,\n",
    "    ):\n",
    "        assert (\n",
    "            len(input_modules) == 2\n",
    "        ), \"Binary Adder module must have 2 and exactly 2 entries\"\n",
    "        super().__init__(input_modules=input_modules)\n",
    "\n",
    "    def step(self):\n",
    "        super().step()\n",
    "        self.output_bit = self.input_bits[0] + self.input_bits[1]\n",
    "        for input_module in self.input_modules:\n",
    "            input_module.step()"
   ]
  },
  {
   "cell_type": "code",
   "execution_count": 128,
   "metadata": {},
   "outputs": [],
   "source": [
    "class TreeAdder:\n",
    "    def __init__(self, input_modules: List[SCModule]):\n",
    "        self.adders = [BinaryAdder([input_modules[0], input_modules[1]])]\n",
    "        self.output_bit = 0\n",
    "        for input_module in input_modules[2:]:\n",
    "            self.adders.append(BinaryAdder([self.adders[-1], input_module]))\n",
    "\n",
    "    def step(self):\n",
    "        self.adders[-1].step()\n",
    "        self.output_bit = self.adders[-1].output_bit"
   ]
  },
  {
   "cell_type": "markdown",
   "metadata": {},
   "source": [
    "## Neuron"
   ]
  },
  {
   "cell_type": "code",
   "execution_count": 170,
   "metadata": {},
   "outputs": [],
   "source": [
    "class Neuron:\n",
    "    def __init__(self, input_size: int, seeds: List[List[int]], taps: List[int]):\n",
    "        assert (\n",
    "            len(seeds) == 2 and len(seeds[0]) == input_size\n",
    "        ), \"Seeds needs to match input_size\"\n",
    "        self.input_size = input_size\n",
    "        self.seeds = seeds\n",
    "        self.taps = taps\n",
    "        self.b2s_inputs = [\n",
    "            Binary2StochasticUnipolar(\n",
    "                lfsr_seed=self.seeds[0][i],\n",
    "                lfsr_taps=self.taps,\n",
    "                size=8,\n",
    "                name=f\"input{i}\",\n",
    "            )\n",
    "            for i in range(input_size)\n",
    "        ]\n",
    "        self.b2s_weights = [\n",
    "            Binary2StochasticUnipolar(\n",
    "                lfsr_seed=self.seeds[1][i],\n",
    "                lfsr_taps=self.taps,\n",
    "                size=8,\n",
    "                name=f\"weight{i}\",\n",
    "            )\n",
    "            for i in range(input_size)\n",
    "        ]\n",
    "        self.muls = [\n",
    "            MultiplicatorUnipolar(\n",
    "                input_modules=[self.b2s_inputs[i], self.b2s_weights[i]]\n",
    "            )\n",
    "            for i in range(input_size)\n",
    "        ]\n",
    "        self.tree_adder = TreeAdder(input_modules=self.muls)\n",
    "        self.s2b = Stochastic2BinaryUnipolar(input_modules=[self.tree_adder])\n",
    "        self.clock = 0\n",
    "\n",
    "    def set_inputs(self, inputs=List[float]):\n",
    "        assert (\n",
    "            len(inputs) == self.input_size\n",
    "        ), f\"Input size must match input size, expected {self.input_size}, got {len(inputs)}\"\n",
    "        for i in range(len(inputs)):\n",
    "            assert 0 <= inputs[i] <= 1, \"Inputs must be in range [0,1]\"\n",
    "            self.b2s_inputs[i].set_input_value(inputs[i])\n",
    "\n",
    "    def set_weights(self, weights=List[float]):\n",
    "        assert (\n",
    "            len(weights) == self.input_size\n",
    "        ), f\"Weights size must match input size, expected {self.input_size}, got {len(weights)}\"\n",
    "        for i in range(len(weights)):\n",
    "            assert 0 <= weights[i] <= 1, \"Weights must be in range [0,1]\"\n",
    "            self.b2s_weights[i].set_input_value(weights[i])\n",
    "\n",
    "    def step(self):\n",
    "        self.s2b.step()\n",
    "        self.clock += 1\n",
    "\n",
    "    def get_result(self):\n",
    "        return self.s2b.result\n",
    "\n",
    "    def __str__(self):\n",
    "        s = f\"Neuron of size {self.input_size}.\\n\"\n",
    "        s += \"-\" * 10 + \"\\n\"\n",
    "        s += \"Values of inputs and weights:\\n\"\n",
    "        for i in range(self.input_size):\n",
    "            s += f\"Input{i}: {self.b2s_inputs[i].input_value}, Weight{i}: {self.b2s_weights[i].input_value}\\n\"\n",
    "        s += \"-\" * 10 + \"\\n\"\n",
    "        s += \"Values of Muls:\\n\"\n",
    "        for i in range(self.input_size):\n",
    "            s += f\"Mul n° {i}: {self.muls[i].acc/self.clock}\\n\"\n",
    "        s += \"-\" * 10 + \"\\n\"\n",
    "        s += f\"Output value: {self.s2b.result}\"\n",
    "        return s"
   ]
  },
  {
   "cell_type": "markdown",
   "metadata": {},
   "source": [
    "## Test"
   ]
  },
  {
   "cell_type": "code",
   "execution_count": 172,
   "metadata": {},
   "outputs": [],
   "source": [
    "main_seed1 = int(np.random.random() * (pow(2, 8) - 1))\n",
    "main_seed2 = int(np.random.random() * (pow(2, 8) - 1))\n",
    "main_seed3 = int(np.random.random() * (pow(2, 8) - 1))\n",
    "main_seed4 = int(np.random.random() * (pow(2, 8) - 1))\n",
    "main_seed5 = int(np.random.random() * (pow(2, 8) - 1))\n",
    "main_seed6 = int(np.random.random() * (pow(2, 8) - 1))\n",
    "main_taps = [0, 2, 3, 4]"
   ]
  },
  {
   "cell_type": "code",
   "execution_count": 176,
   "metadata": {},
   "outputs": [
    {
     "data": {
      "text/plain": [
       "0.85546875"
      ]
     },
     "execution_count": 176,
     "metadata": {},
     "output_type": "execute_result"
    }
   ],
   "source": [
    "# b2s1 = Binary2StochasticUnipolar(lfsr_seed=main_seed1, lfsr_taps=main_taps, size=8)\n",
    "# b2s2 = Binary2StochasticUnipolar(lfsr_seed=main_seed2, lfsr_taps=main_taps, size=8)\n",
    "# b2s3 = Binary2StochasticUnipolar(lfsr_seed=main_seed3, lfsr_taps=main_taps, size=8)\n",
    "# mul = MultiplicatorUnipolar(input_modules=[b2s1, b2s2])\n",
    "# add = TreeAdder(input_modules=[b2s1, b2s2, b2s3])\n",
    "# s2b = Stochastic2BinaryUnipolar(input_modules=[add], size=8)\n",
    "\n",
    "inputs = [0.3, 0.5, 0.8]\n",
    "weigths = [0.5, 0.3, 0.7]\n",
    "neuron = Neuron(\n",
    "    3,\n",
    "    [[main_seed1, main_seed2, main_seed3], [main_seed4, main_seed5, main_seed6]],\n",
    "    main_taps,\n",
    ")\n",
    "neuron.set_inputs(inputs)\n",
    "neuron.set_weights(weigths)\n",
    "\n",
    "output_len = 1024\n",
    "for _ in range(output_len):\n",
    "    neuron.step()\n",
    "\n",
    "neuron.get_result()"
   ]
  },
  {
   "cell_type": "code",
   "execution_count": 178,
   "metadata": {},
   "outputs": [
    {
     "data": {
      "text/plain": [
       "0.8599999999999999"
      ]
     },
     "execution_count": 178,
     "metadata": {},
     "output_type": "execute_result"
    }
   ],
   "source": [
    "float(np.dot(inputs, weigths))"
   ]
  }
 ],
 "metadata": {
  "kernelspec": {
   "display_name": "DNN-SC",
   "language": "python",
   "name": "python3"
  },
  "language_info": {
   "codemirror_mode": {
    "name": "ipython",
    "version": 3
   },
   "file_extension": ".py",
   "mimetype": "text/x-python",
   "name": "python",
   "nbconvert_exporter": "python",
   "pygments_lexer": "ipython3",
   "version": "3.11.9"
  }
 },
 "nbformat": 4,
 "nbformat_minor": 2
}
