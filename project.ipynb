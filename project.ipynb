{
 "cells": [
  {
   "cell_type": "code",
   "execution_count": 10,
   "metadata": {},
   "outputs": [],
   "source": [
    "import numpy as np\n",
    "import time"
   ]
  },
  {
   "cell_type": "markdown",
   "metadata": {},
   "source": [
    "## Utils"
   ]
  },
  {
   "cell_type": "code",
   "execution_count": 152,
   "metadata": {},
   "outputs": [],
   "source": [
    "def int2bin(x: int, size: int):\n",
    "    return bin(x)[2:].zfill(size)\n",
    "\n",
    "\n",
    "def float2int(x: float, n: int):\n",
    "    return int(x * pow(2, n))"
   ]
  },
  {
   "cell_type": "markdown",
   "metadata": {},
   "source": [
    "## Bit Stream"
   ]
  },
  {
   "cell_type": "code",
   "execution_count": 25,
   "metadata": {},
   "outputs": [],
   "source": [
    "class BitStream:\n",
    "    def __init__(self):\n",
    "        self.stream = 0  # The content of the stream\n",
    "        self.size = 0  # The current size of the stream\n",
    "\n",
    "    def add_bits(self, bits: int, bit_count: int):\n",
    "        \"\"\"Add bits to the stream.\n",
    "\n",
    "        Args:\n",
    "            bits (int): The integer containing the bits to add (e.g.  0b101).\n",
    "            bit_count (int): The number of bits to add from the 'bits' integer (e.g. 3).\n",
    "        \"\"\"\n",
    "        self.stream = (self.stream << bit_count) | (bits & ((1 << bit_count) - 1))\n",
    "        self.size += bit_count\n",
    "\n",
    "    def pop_bits(self, bit_count: int) -> int:\n",
    "        \"\"\"Read qnd remove a certain number of bits from the stream.\n",
    "\n",
    "        Args:\n",
    "            bit_count (int): The number of bits to read.\n",
    "\n",
    "        Returns:\n",
    "            int: The extracted bits as an integer.\n",
    "        \"\"\"\n",
    "        if bit_count > self.size:\n",
    "            raise ValueError(\"Not enough bits in the stream to read.\")\n",
    "\n",
    "        # Extract the bits from the most significant part of the stream\n",
    "        result = self.stream >> (self.size - bit_count)\n",
    "        # Remove the bits we just read\n",
    "        self.stream &= (1 << (self.size - bit_count)) - 1\n",
    "        self.size -= bit_count\n",
    "\n",
    "        return result\n",
    "\n",
    "    def read(self):\n",
    "        \"\"\"Read the content of the stream as a binary int\n",
    "\n",
    "        Returns:\n",
    "            int: the content of the stream as an integer\n",
    "        \"\"\"\n",
    "        return self.stream\n",
    "\n",
    "    def __str__(self) -> str:\n",
    "        \"\"\"Return the bit stream as a binary string for easy visualization.\"\"\"\n",
    "        return bin(self.stream)[2:].zfill(self.size)"
   ]
  },
  {
   "cell_type": "code",
   "execution_count": 33,
   "metadata": {},
   "outputs": [
    {
     "name": "stdout",
     "output_type": "stream",
     "text": [
      "00010\n",
      "10\n"
     ]
    }
   ],
   "source": [
    "bitStream = BitStream()\n",
    "bitStream.add_bits(0b00010, 5)\n",
    "print(bin(bitStream.stream)[2:].zfill(5))\n",
    "bitStream.pop_bits(2)\n",
    "print(bin(bitStream.stream)[2:].zfill(2))"
   ]
  },
  {
   "cell_type": "markdown",
   "metadata": {},
   "source": [
    "## LFSR"
   ]
  },
  {
   "cell_type": "code",
   "execution_count": 178,
   "metadata": {},
   "outputs": [],
   "source": [
    "main_seed = int(np.random.random() * (pow(2, 128) - 1))\n",
    "main_taps = [0, 1, 2, 7]"
   ]
  },
  {
   "cell_type": "code",
   "execution_count": 134,
   "metadata": {},
   "outputs": [],
   "source": [
    "class LFSR:\n",
    "    def __init__(self, seed: int, taps: list[int], size: int):\n",
    "        self.seed = seed\n",
    "        self.taps = taps\n",
    "        self.size = size\n",
    "        self.register = seed\n",
    "\n",
    "    def step(self):\n",
    "        feedback = 0\n",
    "        for tap in self.taps:\n",
    "            feedback ^= (self.register >> tap) & 1\n",
    "\n",
    "        # Shift the register to the right and set the most significant bit to the feedback bit\n",
    "        self.register = (self.register >> 1) | (feedback << (self.size - 1))\n",
    "\n",
    "        return self.register"
   ]
  },
  {
   "cell_type": "markdown",
   "metadata": {},
   "source": [
    "# B2S and S2B convertor"
   ]
  },
  {
   "cell_type": "code",
   "execution_count": 186,
   "metadata": {},
   "outputs": [],
   "source": [
    "class Binary2Stochastic:\n",
    "    def __init__(self, lfsr_seed: int, lfsr_taps: int, lfsr_size: int, output_len: int):\n",
    "        self.lfsr = LFSR(seed=lfsr_seed, taps=lfsr_taps, size=lfsr_size)\n",
    "        self.n = lfsr_size\n",
    "        self.output_len = output_len\n",
    "\n",
    "    def convert(self, x: float):\n",
    "        assert 0 < x < 1, \"Input needs to be in range [0,1]\"\n",
    "        x_as_binary = float2int(x, self.n)\n",
    "        result = 0\n",
    "        for _ in range(self.output_len):\n",
    "            rng = self.lfsr.step()\n",
    "            result = (result << 1) | (x_as_binary < rng)\n",
    "        return result"
   ]
  },
  {
   "cell_type": "code",
   "execution_count": 190,
   "metadata": {},
   "outputs": [
    {
     "name": "stdout",
     "output_type": "stream",
     "text": [
      "0.520058\n"
     ]
    }
   ],
   "source": [
    "stoch_len = 1000000\n",
    "b2s = Binary2Stochastic(main_seed, main_taps, 128, stoch_len)\n",
    "sn = b2s.convert(0.48)\n",
    "res = 0\n",
    "for el in int2bin(sn, stoch_len):\n",
    "    res += int(el)\n",
    "print(res / stoch_len)"
   ]
  },
  {
   "cell_type": "code",
   "execution_count": null,
   "metadata": {},
   "outputs": [],
   "source": []
  }
 ],
 "metadata": {
  "kernelspec": {
   "display_name": "DNN-SC",
   "language": "python",
   "name": "python3"
  },
  "language_info": {
   "codemirror_mode": {
    "name": "ipython",
    "version": 3
   },
   "file_extension": ".py",
   "mimetype": "text/x-python",
   "name": "python",
   "nbconvert_exporter": "python",
   "pygments_lexer": "ipython3",
   "version": "3.11.9"
  }
 },
 "nbformat": 4,
 "nbformat_minor": 2
}
